{
 "cells": [
  {
   "cell_type": "markdown",
   "metadata": {},
   "source": [
    "# Unsplash Image Search\n",
    "\n",
    "The project allows you to search images on Unsplash by using a natural words description. It is powered by OpenAI's [CLIP model](https://github.com/openai/CLIP).\n",
    "\n",
    "Use this notebook to setup your environment."
   ]
  },
  {
   "cell_type": "markdown",
   "metadata": {},
   "source": [
    "## Install the Dependencies\n",
    "\n",
    "To install the project's dependencies (including those for CLIP) run the following in the terminal. It is a good idea to create a virtual environment.\n",
    "\n",
    "```\n",
    "pip install -r requirements.txt\n",
    "```"
   ]
  },
  {
   "cell_type": "code",
   "execution_count": 1,
   "metadata": {},
   "outputs": [
    {
     "name": "stdout",
     "output_type": "stream",
     "text": [
      "Requirement already satisfied: backcall==0.2.0 in c:\\users\\lenovo\\anaconda3\\lib\\site-packages (from -r requirements.txt (line 1)) (0.2.0)"
     ]
    },
    {
     "name": "stderr",
     "output_type": "stream",
     "text": [
      "ERROR: Could not find a version that satisfies the requirement torchvision==0.8.2 (from versions: 0.1.6, 0.1.7, 0.1.8, 0.1.9, 0.2.0, 0.2.1, 0.2.2, 0.2.2.post2, 0.2.2.post3, 0.9.0, 0.9.1, 0.10.0, 0.10.1, 0.11.0, 0.11.1, 0.11.2, 0.11.3, 0.12.0, 0.13.0, 0.13.1)\n",
      "ERROR: No matching distribution found for torchvision==0.8.2\n",
      "WARNING: There was an error checking the latest version of pip.\n"
     ]
    },
    {
     "name": "stdout",
     "output_type": "stream",
     "text": [
      "\n",
      "Collecting decorator==4.4.2\n",
      "  Using cached decorator-4.4.2-py2.py3-none-any.whl (9.2 kB)\n",
      "Collecting ipykernel==5.4.3\n",
      "  Using cached ipykernel-5.4.3-py3-none-any.whl (120 kB)\n",
      "Collecting ipython==7.19.0\n",
      "  Using cached ipython-7.19.0-py3-none-any.whl (784 kB)\n",
      "Requirement already satisfied: ipython-genutils==0.2.0 in c:\\users\\lenovo\\anaconda3\\lib\\site-packages (from -r requirements.txt (line 5)) (0.2.0)\n",
      "Requirement already satisfied: jedi==0.18.0 in c:\\users\\lenovo\\anaconda3\\lib\\site-packages (from -r requirements.txt (line 6)) (0.18.0)\n",
      "Collecting jupyter-client==6.1.11\n",
      "  Using cached jupyter_client-6.1.11-py3-none-any.whl (108 kB)\n",
      "Collecting jupyter-core==4.7.0\n",
      "  Using cached jupyter_core-4.7.0-py3-none-any.whl (82 kB)\n",
      "Collecting parso==0.8.1\n",
      "  Using cached parso-0.8.1-py2.py3-none-any.whl (93 kB)\n",
      "Requirement already satisfied: pexpect==4.8.0 in c:\\users\\lenovo\\anaconda3\\lib\\site-packages (from -r requirements.txt (line 10)) (4.8.0)\n",
      "Requirement already satisfied: pickleshare==0.7.5 in c:\\users\\lenovo\\anaconda3\\lib\\site-packages (from -r requirements.txt (line 11)) (0.7.5)\n",
      "Collecting prompt-toolkit==3.0.10\n",
      "  Using cached prompt_toolkit-3.0.10-py3-none-any.whl (355 kB)\n",
      "Requirement already satisfied: ptyprocess==0.7.0 in c:\\users\\lenovo\\anaconda3\\lib\\site-packages (from -r requirements.txt (line 13)) (0.7.0)\n",
      "Collecting Pygments==2.7.4\n",
      "  Using cached Pygments-2.7.4-py3-none-any.whl (950 kB)\n",
      "Collecting python-dateutil==2.8.1\n",
      "  Using cached python_dateutil-2.8.1-py2.py3-none-any.whl (227 kB)\n",
      "Collecting pyzmq==21.0.1\n",
      "  Using cached pyzmq-21.0.1-cp39-cp39-win_amd64.whl (1.1 MB)\n",
      "Collecting six==1.15.0\n",
      "  Using cached six-1.15.0-py2.py3-none-any.whl (10 kB)\n",
      "Requirement already satisfied: tornado==6.1 in c:\\users\\lenovo\\anaconda3\\lib\\site-packages (from -r requirements.txt (line 18)) (6.1)\n",
      "Collecting traitlets==5.0.5\n",
      "  Using cached traitlets-5.0.5-py3-none-any.whl (100 kB)\n",
      "Requirement already satisfied: wcwidth==0.2.5 in c:\\users\\lenovo\\anaconda3\\lib\\site-packages (from -r requirements.txt (line 20)) (0.2.5)\n",
      "Collecting python-dotenv==0.15.0\n",
      "  Using cached python_dotenv-0.15.0-py2.py3-none-any.whl (18 kB)\n",
      "Collecting ipyplot==1.1.0\n",
      "  Using cached ipyplot-1.1.0-py3-none-any.whl (13 kB)\n",
      "Collecting torch==1.7.1\n",
      "  Using cached torch-1.7.1-cp39-cp39-win_amd64.whl (184.0 MB)\n"
     ]
    }
   ],
   "source": [
    "!pip install -r requirements.txt"
   ]
  },
  {
   "cell_type": "markdown",
   "metadata": {},
   "source": [
    "## Clone the CLIP repository and copy the code"
   ]
  },
  {
   "cell_type": "code",
   "execution_count": 2,
   "metadata": {},
   "outputs": [
    {
     "name": "stderr",
     "output_type": "stream",
     "text": [
      "Cloning into 'CLIP'...\n",
      "'mv' 不是内部或外部命令，也不是可运行的程序\n",
      "或批处理文件。\n",
      "'mv' 不是内部或外部命令，也不是可运行的程序\n",
      "或批处理文件。\n"
     ]
    }
   ],
   "source": [
    "# Clone the CLIP repository\n",
    "!git clone https://github.com/openai/CLIP.git\n",
    "\n",
    "# Move the CLIP source files and the vocabulary in the root directory. \n",
    "# Unfortunately, the CLIP code is not organized as a module, so it cannot be imported easily\n",
    "!mv CLIP/*.py .\n",
    "!mv CLIP/*.gz .\n"
   ]
  }
 ],
 "metadata": {
  "kernelspec": {
   "display_name": "Python 3 (ipykernel)",
   "language": "python",
   "name": "python3"
  },
  "language_info": {
   "codemirror_mode": {
    "name": "ipython",
    "version": 3
   },
   "file_extension": ".py",
   "mimetype": "text/x-python",
   "name": "python",
   "nbconvert_exporter": "python",
   "pygments_lexer": "ipython3",
   "version": "3.9.7"
  }
 },
 "nbformat": 4,
 "nbformat_minor": 2
}
